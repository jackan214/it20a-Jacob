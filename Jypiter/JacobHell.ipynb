{
 "cells": [
  {
   "cell_type": "markdown",
   "id": "051c7c3e",
   "metadata": {},
   "source": [
    "# Hemuppgift It20A  fredag 8 april\n",
    "\n",
    "Detta är en individuell uppgift. Exakta svar kommer bedömas som ett grupparbete och ge max. E på uppgiften. Ni ska inte samarbeta.\n",
    "\n",
    "Ni får en lektion för att arbeta på uppgiften. Senast inlämning är **fredag 8 april kl 23.59**. Inga sena inlämningar accepteras. \n",
    "\n",
    "Lycka till!! \n",
    "\n",
    "Starta med att köra cellen nedan sedan är det bara att gå igenom frågorna!"
   ]
  },
  {
   "cell_type": "code",
   "execution_count": null,
   "id": "17d658ba",
   "metadata": {},
   "outputs": [],
   "source": [
    "for i in \"LYCKA TILL!\":\n",
    "    print (i, end= \"\")\n",
    "    \n",
    "print (\"\\n\\n ✌(ಠ‿ಠ)✌\")"
   ]
  },
  {
   "cell_type": "markdown",
   "id": "db46d4fa",
   "metadata": {},
   "source": [
    "## Del 1: Scope"
   ]
  },
  {
   "cell_type": "markdown",
   "id": "3a98745a",
   "metadata": {},
   "source": [
    "### (E-C) Fråga 1\n",
    "\n",
    "Vad innebär \"Scope\", använd LEGB regeln för att förklara. Har du använt dig av det i din utvärdering använd gärna det som exempel. För det högre betyget krävs kodexempel"
   ]
  },
  {
   "cell_type": "markdown",
   "id": "f3374da8",
   "metadata": {},
   "source": [
    "Scope handlar om vilken nivå olika delar av koden ligger och jobbar på. Man pratar om Local, Enclosing, Global, och Built-in\n",
    "Local betyder inom en funktion\n",
    "Enclosing betyder nästade fu\n",
    "Global betyder antingen att den ligger i det yttersta lagret av kod eller att man kallat till den med funktionen global\n",
    "built-in angår t.ex. print eller def, alltså de som kommer inbyggda"
   ]
  },
  {
   "cell_type": "markdown",
   "id": "6429a48e",
   "metadata": {},
   "source": [
    "## Del 2: Felhantering\n",
    "\n"
   ]
  },
  {
   "cell_type": "markdown",
   "id": "26a128a8",
   "metadata": {},
   "source": [
    "### (E) Fråga 2\n",
    "\n",
    "Det finns tre typer av fel: Syntaxfel, exekveringsfel och logiska fel. Beskriv skillnaden mellan dessa typer av fel. Ge kodexempel på **syntaxfel** och **logiska** fel gärna utifrån spelet du gjort.\n"
   ]
  },
  {
   "cell_type": "markdown",
   "id": "11d8822a",
   "metadata": {},
   "source": [
    "Syntaxet är första delen av varje kodstycke och berättar för compilern vad för kod som ska förväntas och hur det ska tolkas, syntax error är när compilern för någon anledning inte kan förstå syntaxet, t.ex. stavfel.\n",
    "\n",
    "Logiska fel är när koden körs men man får inte resultaten som man förväntade sig, detta händer oftast eftersom du matade in fel information\n",
    "\n",
    "Runtime errors är när spelet krashar, detta kan hända av t.ex en omöjlig matte ekvation."
   ]
  },
  {
   "cell_type": "code",
   "execution_count": null,
   "id": "c842767f",
   "metadata": {},
   "outputs": [],
   "source": [
    "#Syntax\n",
    "age = int(Input(\"How old are you?\"))\n",
    "print(\"In one year you'll be: \", age+1)\n",
    "\n",
    "#Logisk\n",
    "age = int(input(\"How old are you?\"))\n",
    "print(\"In one year you'll be: \", age+0)\n",
    "\n",
    "#Runtime\n",
    "age = int(input(\"How old are you?\"))\n",
    "print(\"Right now you are: \", age/0)"
   ]
  },
  {
   "cell_type": "markdown",
   "id": "789a8b19",
   "metadata": {},
   "source": [
    "### (E-A) Fråga 3\n",
    "\n",
    "Ge ett exempel på hur du kan använda try/except vid felhantering. Använd gärna din kod från spelet som exempel. "
   ]
  },
  {
   "cell_type": "markdown",
   "id": "d424e7bf",
   "metadata": {},
   "source": [
    "\"Try\" ger dig möjligheten att förvänta fel och inte orsaka runtime error från användare som inte fattar enkla instruktioner eller otillförlitlig kod\n",
    "Jag kommer gå över 3 kommandon i kombination med detta, try except, try else, och try finally\n",
    "\n",
    "Det finns tusentals sätt att använda dessa komandon med det två vanligaste är definitivt för att förhindra matematiska fel eller felaktig input från användare."
   ]
  },
  {
   "cell_type": "code",
   "execution_count": null,
   "id": "f5c9bc2f",
   "metadata": {},
   "outputs": [],
   "source": [
    "#Vad gör de olika komandona?\n",
    "#Try except:\n",
    "try :\n",
    "    age = int(input(\"How old are you?\"))\n",
    "except ValueError:\n",
    "    print(\"You need to input a number\")\n",
    "#Här kan användaren nu inputa bokstäver och utan att behöva skriva upp ett helt system som kollar variabel datatypen så kan man undvika att programet crashar\n",
    "\n",
    "#Try else\n",
    "try :\n",
    "    age = int(input(\"How old are you?\"))\n",
    "except ValueError:\n",
    "    print(\"You need to input a number\")\n",
    "else :\n",
    "    print(\"Right now you are: \", age)\n",
    "#Här har jag lagt till komponenten \"else :\" och vi får då alterativet att lägga till kod som bara händer of \"except\" felet inte händer,\n",
    "#i detta exemplet skrivs åldern ut men detta hade kunnat vara vad som hellst\n",
    "\n",
    "#Try finally \n",
    "while True :\n",
    "    try :\n",
    "        age = int(input(\"How old are you?\"))\n",
    "    except ValueError:\n",
    "        print(\"You need to input a number\")\n",
    "        pass\n",
    "    else :\n",
    "        print(\"Right now you are: \", age)\n",
    "    finally :\n",
    "        continue\n",
    "#Try finally fungerear lite som try else fast den körs alltid och bryr sig inte om ett fel händer, \n",
    "#eftersom \"except pass\" inte hade låtit en komma sista raden om ett fel uppsot så kan vi använda den för att släppa ut oss"
   ]
  },
  {
   "cell_type": "markdown",
   "id": "f577b0b5",
   "metadata": {},
   "source": [
    "### (C-A) Fråga 4\n",
    "\n",
    "Ge minst ett exempel på hur du kan använda assert vid felhantering. Använd gärna din kod från spelet som exempel."
   ]
  },
  {
   "cell_type": "markdown",
   "id": "87e7ac3c",
   "metadata": {},
   "source": [
    "Assert är en python funktion som kan hjälpa en felsöka problem genom att göra det möjligt att skapa \"sanity checks\". Felen kallas assertion fel och testar om ett antagande är sant eller falskt. Är antagandet falskt 4kan man på så sett få reda på att man har en bugg i sin kod.\n",
    "\n",
    "Assert är väldigt användart för felsökning, dokumentation, och testande av kod medans den fortfarande utvecklas, det kan tas bort väldigt simpelt när man sett till att allt fungerar.\n",
    "\n",
    "Att hitta ett lämpande exempel för hur detta skulle förkorta kod är väldigt svårt eftersom det är mest effektiv i komplicerade miljöer och passar inte riktigt i ett exempel men jag kan visa hur det fungerar iallafall\n",
    "\n",
    "assert <krav>,<felmeddelande>"
   ]
  },
  {
   "cell_type": "code",
   "execution_count": 3,
   "id": "4d8e5a0e",
   "metadata": {},
   "outputs": [
    {
     "ename": "AssertionError",
     "evalue": "you need to input a number",
     "output_type": "error",
     "traceback": [
      "\u001b[1;31m---------------------------------------------------------------------------\u001b[0m",
      "\u001b[1;31mAssertionError\u001b[0m                            Traceback (most recent call last)",
      "\u001b[1;32mc:\\Users\\jacob.hell\\Desktop\\python\\Jypiter\\JacobHell.ipynb Cell 15'\u001b[0m in \u001b[0;36m<cell line: 2>\u001b[1;34m()\u001b[0m\n\u001b[0;32m      <a href='vscode-notebook-cell:/c%3A/Users/jacob.hell/Desktop/python/Jypiter/JacobHell.ipynb#ch0000018?line=0'>1</a>\u001b[0m age \u001b[39m=\u001b[39m \u001b[39minput\u001b[39m(\u001b[39m\"\u001b[39m\u001b[39mHow old are you?\u001b[39m\u001b[39m\"\u001b[39m)\n\u001b[1;32m----> <a href='vscode-notebook-cell:/c%3A/Users/jacob.hell/Desktop/python/Jypiter/JacobHell.ipynb#ch0000018?line=1'>2</a>\u001b[0m \u001b[39massert\u001b[39;00m age \u001b[39m==\u001b[39m \u001b[39mtype\u001b[39m(\u001b[39mint\u001b[39m), \u001b[39m\"\u001b[39m\u001b[39myou need to input a number\u001b[39m\u001b[39m\"\u001b[39m\n\u001b[0;32m      <a href='vscode-notebook-cell:/c%3A/Users/jacob.hell/Desktop/python/Jypiter/JacobHell.ipynb#ch0000018?line=2'>3</a>\u001b[0m \u001b[39mprint\u001b[39m(age)\n",
      "\u001b[1;31mAssertionError\u001b[0m: you need to input a number"
     ]
    }
   ],
   "source": [
    "age = input(\"How old are you?\")\n",
    "assert age == type(int), \"you need to input a number\"\n",
    "print(age)"
   ]
  },
  {
   "cell_type": "code",
   "execution_count": 5,
   "id": "e5c99085",
   "metadata": {},
   "outputs": [
    {
     "name": "stdout",
     "output_type": "stream",
     "text": [
      "you need to input a number\n"
     ]
    }
   ],
   "source": [
    "age = input(\"How old are you?\")\n",
    "if age != type(int) :\n",
    "    print(\"you need to input a number\")\n",
    "else:\n",
    "    print(age)"
   ]
  },
  {
   "cell_type": "markdown",
   "id": "dff70e93",
   "metadata": {},
   "source": [
    "som man ser i koden över visar assert mycket mer information än \"print\" som vanligen används istället, dessutom blir koden mer kompakt och ser bättre ut\n",
    "(om inte resultaten från att köra dyker upp automtiskt får du köra styckena)"
   ]
  },
  {
   "cell_type": "markdown",
   "id": "bd3842b4",
   "metadata": {},
   "source": [
    "## Del 3: Lämna in!\n",
    "\n",
    "Lämna in filen i classroom. Spara ned filen enligt mall **dittnamn.ipynb** (ipynb blir automatisk filändelse)."
   ]
  },
  {
   "cell_type": "code",
   "execution_count": null,
   "id": "28625770",
   "metadata": {},
   "outputs": [],
   "source": []
  }
 ],
 "metadata": {
  "kernelspec": {
   "display_name": "Python 3",
   "language": "python",
   "name": "python3"
  },
  "language_info": {
   "codemirror_mode": {
    "name": "ipython",
    "version": 3
   },
   "file_extension": ".py",
   "mimetype": "text/x-python",
   "name": "python",
   "nbconvert_exporter": "python",
   "pygments_lexer": "ipython3",
   "version": "3.9.6"
  }
 },
 "nbformat": 4,
 "nbformat_minor": 5
}
